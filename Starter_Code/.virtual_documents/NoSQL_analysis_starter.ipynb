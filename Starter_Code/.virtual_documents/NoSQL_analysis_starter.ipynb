





from pymongo import MongoClient
import pandas as pd
from pprint import pprint


# Create an instance of MongoClient
mongo = MongoClient(port=27017)


# assign the uk_food database to a variable name
db = mongo['uk_food']


# review the collections in our database
print(db.list_collection_names())


# assign the collection to a variable
establishments = db['establishments']








# Find the establishments with a hygiene score of 20
query = {"scores.Hygiene":20}

# Use count_documents to display the number of documents in the result
print(establishments.count_documents(query))
# Display the first document in the results using pprint
results = establishments.find(query)
pprint(results[0])


# Convert the result to a Pandas DataFrame
df=pd.DataFrame(results)
# Display the number of rows in the DataFrame
print(len(df))
# Display the first 10 rows of the DataFrame
df.head(10)





# Find the establishments with London as the Local Authority and has a RatingValue greater than or equal to 4.
query ={'LocalAuthorityName': {"$regex":"London"}, "RatingValue":{"$gte": 4}}

# Use count_documents to display the number of documents in the result
print(establishments.count_documents(query))
# Display the first document in the results using pprint
results = establishments.find(query)
pprint(results[0])


# Convert the result to a Pandas DataFrame

# Display the number of rows in the DataFrame

# Display the first 10 rows of the DataFrame






# Search within 0.01 degree on either side of the latitude and longitude.
# Rating value must equal 5
# Sort by hygiene score

degree_search = 0.01
latitude =
longitude =

query =
sort =
limit =

# Print the results



# Convert result to Pandas DataFrame






# Create a pipeline that:
# 1. Matches establishments with a hygiene score of 0
# 2. Groups the matches by Local Authority
# 3. Sorts the matches from highest to lowest

# Print the number of documents in the result

# Print the first 10 results



# Convert the result to a Pandas DataFrame

# Display the number of rows in the DataFrame

# Display the first 10 rows of the DataFrame

